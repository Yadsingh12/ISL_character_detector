{
  "cells": [
    {
      "cell_type": "code",
      "execution_count": null,
      "metadata": {
        "id": "Sux1oC_n8L4t"
      },
      "outputs": [],
      "source": [
        "import tensorflow as tf\n",
        "\n",
        "# Check GPU availability\n",
        "print(\"Num GPUs Available: \", len(tf.config.list_physical_devices('GPU')))\n",
        "\n"
      ]
    },
    {
      "cell_type": "code",
      "execution_count": null,
      "metadata": {
        "id": "3zLy7AFA-d4n"
      },
      "outputs": [],
      "source": [
        "from google.colab import drive\n",
        "drive.mount('/content/drive')"
      ]
    },
    {
      "cell_type": "code",
      "execution_count": 1,
      "metadata": {
        "id": "XJjTHULuc5wW"
      },
      "outputs": [
        {
          "ename": "ModuleNotFoundError",
          "evalue": "No module named 'numpy'",
          "output_type": "error",
          "traceback": [
            "\u001b[1;31m---------------------------------------------------------------------------\u001b[0m",
            "\u001b[1;31mModuleNotFoundError\u001b[0m                       Traceback (most recent call last)",
            "Cell \u001b[1;32mIn[1], line 2\u001b[0m\n\u001b[0;32m      1\u001b[0m \u001b[38;5;28;01mimport\u001b[39;00m \u001b[38;5;21;01mos\u001b[39;00m\n\u001b[1;32m----> 2\u001b[0m \u001b[38;5;28;01mimport\u001b[39;00m \u001b[38;5;21;01mnumpy\u001b[39;00m \u001b[38;5;28;01mas\u001b[39;00m \u001b[38;5;21;01mnp\u001b[39;00m\n\u001b[0;32m      3\u001b[0m \u001b[38;5;28;01mfrom\u001b[39;00m \u001b[38;5;21;01msklearn\u001b[39;00m\u001b[38;5;21;01m.\u001b[39;00m\u001b[38;5;21;01mmodel_selection\u001b[39;00m \u001b[38;5;28;01mimport\u001b[39;00m train_test_split\n\u001b[0;32m      4\u001b[0m \u001b[38;5;28;01mfrom\u001b[39;00m \u001b[38;5;21;01mtensorflow\u001b[39;00m\u001b[38;5;21;01m.\u001b[39;00m\u001b[38;5;21;01mkeras\u001b[39;00m\u001b[38;5;21;01m.\u001b[39;00m\u001b[38;5;21;01mutils\u001b[39;00m \u001b[38;5;28;01mimport\u001b[39;00m to_categorical\n",
            "\u001b[1;31mModuleNotFoundError\u001b[0m: No module named 'numpy'"
          ]
        }
      ],
      "source": [
        "import os\n",
        "import numpy as np\n",
        "from sklearn.model_selection import train_test_split\n",
        "from tensorflow.keras.utils import to_categorical\n",
        "from sklearn.preprocessing import LabelEncoder\n",
        "import tensorflow as tf\n",
        "from tensorflow.keras.models import Sequential\n",
        "from tensorflow.keras.layers import Dense, Dropout"
      ]
    },
    {
      "cell_type": "code",
      "execution_count": null,
      "metadata": {
        "id": "AvMybaYEHD0Y"
      },
      "outputs": [],
      "source": [
        "# loading number data\n",
        "def load_data_from_folders_number(base_dir):\n",
        "    data = []\n",
        "    labels = []\n",
        "    for label_folder in os.listdir(base_dir):\n",
        "        folder_path = os.path.join(base_dir, label_folder)\n",
        "        if os.path.isdir(folder_path):\n",
        "            for file_name in os.listdir(folder_path):\n",
        "                if file_name.endswith('.npy'):\n",
        "                    file_path = os.path.join(folder_path, file_name)\n",
        "                    landmarks = np.load(file_path)\n",
        "                    data.append(landmarks)\n",
        "                    labels.append(label_folder)\n",
        "    return np.array(data), np.array(labels)\n",
        "\n",
        "# Load single-hand data\n",
        "number_train_data, number_train_labels = load_data_from_folders_number('/content/drive/My Drive/Colab Notebooks/ISLtoText/dataset_numbers/train')\n",
        "number_test_data, number_test_labels = load_data_from_folders_number('/content/drive/My Drive/Colab Notebooks/ISLtoText/dataset_numbers/test')\n",
        "\n",
        "# Encode labels for single-hand model\n",
        "label_encoder_single = LabelEncoder()\n",
        "number_train_labels_encoded = label_encoder_single.fit_transform(number_train_labels)\n",
        "number_test_labels_encoded = label_encoder_single.transform(number_test_labels)\n",
        "\n",
        "# Convert labels to one-hot encoding\n",
        "number_train_labels_categorical = to_categorical(number_train_labels_encoded)\n",
        "number_test_labels_categorical = to_categorical(number_test_labels_encoded)"
      ]
    },
    {
      "cell_type": "code",
      "execution_count": null,
      "metadata": {
        "id": "rbuBTIVudEHo"
      },
      "outputs": [],
      "source": [
        "class PrintLossCallback(tf.keras.callbacks.Callback):\n",
        "    def on_epoch_end(self, epoch, logs=None):\n",
        "        logs = logs or {}\n",
        "        train_loss = logs.get('loss')\n",
        "        val_loss = logs.get('val_loss')\n",
        "        print(f\"Epoch {epoch + 1}: Training Loss = {train_loss}, Validation Loss = {val_loss}\")\n",
        "\n",
        "# Instantiate the callback\n",
        "print_loss_callback = PrintLossCallback()"
      ]
    },
    {
      "cell_type": "code",
      "execution_count": null,
      "metadata": {
        "id": "mKL--RfWL8Lo"
      },
      "outputs": [],
      "source": [
        "from tensorflow.keras.callbacks import ModelCheckpoint\n",
        "\n",
        "# Define a callback to save model checkpoints\n",
        "checkpoint_callback_number = ModelCheckpoint(\n",
        "    '/content/drive/My Drive/Colab Notebooks/ISLtoText/number_model_checkpoint.keras',    # Correct file path extension\n",
        "    save_best_only=True,               # Save only the best weights\n",
        "    monitor='val_loss',               # Monitor validation loss to save the best model\n",
        "    mode='min'                        # Mode 'min' for minimization\n",
        ")"
      ]
    },
    {
      "cell_type": "code",
      "execution_count": null,
      "metadata": {
        "colab": {
          "base_uri": "https://localhost:8080/"
        },
        "id": "ZeyNdNbIMkpu",
        "outputId": "94358f06-a4e1-4569-c0a4-774acf9c6489"
      },
      "outputs": [
        {
          "name": "stderr",
          "output_type": "stream",
          "text": [
            "/usr/local/lib/python3.10/dist-packages/keras/src/layers/core/dense.py:87: UserWarning: Do not pass an `input_shape`/`input_dim` argument to a layer. When using Sequential models, prefer using an `Input(shape)` object as the first layer in the model instead.\n",
            "  super().__init__(activity_regularizer=activity_regularizer, **kwargs)\n"
          ]
        }
      ],
      "source": [
        "def create_number_model(input_shape, num_classes):\n",
        "    model = Sequential([\n",
        "        Dense(128, activation='relu', input_shape=input_shape),\n",
        "        Dropout(0.5),\n",
        "        Dense(64, activation='relu'),\n",
        "        Dropout(0.5),\n",
        "        Dense(num_classes, activation='softmax')\n",
        "    ])\n",
        "    model.compile(optimizer='adam', loss='categorical_crossentropy', metrics=['accuracy'])\n",
        "    return model\n",
        "# Define and train the model for single-hand signs\n",
        "number_model = create_number_model((63,), len(label_encoder_single.classes_))"
      ]
    },
    {
      "cell_type": "code",
      "execution_count": null,
      "metadata": {
        "id": "aGCpu_MtNGg4"
      },
      "outputs": [
        {
          "ename": "",
          "evalue": "",
          "output_type": "error",
          "traceback": [
            "\u001b[1;31mRunning cells with 'Python 3.12.4' requires the ipykernel package.\n",
            "\u001b[1;31mRun the following command to install 'ipykernel' into the Python environment. \n",
            "\u001b[1;31mCommand: 'c:/Python312/python.exe -m pip install ipykernel -U --user --force-reinstall'"
          ]
        }
      ],
      "source": [
        "from tensorflow.keras.models import load_model\n",
        "model = load_model('/content/drive/My Drive/Colab Notebooks/ISLtoText/number_model.keras')\n",
        "\n",
        "#model = load_model('/content/drive/My Drive/Colab Notebooks/ISLtoText/number_model_checkpoint.keras')"
      ]
    },
    {
      "cell_type": "code",
      "execution_count": null,
      "metadata": {
        "colab": {
          "base_uri": "https://localhost:8080/"
        },
        "id": "zoG6_YOLNdjC",
        "outputId": "5f326d7b-703f-49d8-d8bb-79417018984a"
      },
      "outputs": [
        {
          "name": "stdout",
          "output_type": "stream",
          "text": [
            "Epoch 1/20\n",
            "\u001b[1m179/183\u001b[0m \u001b[32m━━━━━━━━━━━━━━━━━━━\u001b[0m\u001b[37m━\u001b[0m \u001b[1m0s\u001b[0m 2ms/step - accuracy: 0.1478 - loss: 2.2010Epoch 1: Training Loss = 2.083879232406616, Validation Loss = 1.7009843587875366\n",
            "\u001b[1m183/183\u001b[0m \u001b[32m━━━━━━━━━━━━━━━━━━━━\u001b[0m\u001b[37m\u001b[0m \u001b[1m3s\u001b[0m 5ms/step - accuracy: 0.1496 - loss: 2.1979 - val_accuracy: 0.7239 - val_loss: 1.7010\n",
            "Epoch 2/20\n",
            "\u001b[1m160/183\u001b[0m \u001b[32m━━━━━━━━━━━━━━━━━\u001b[0m\u001b[37m━━━\u001b[0m \u001b[1m0s\u001b[0m 2ms/step - accuracy: 0.4330 - loss: 1.6234Epoch 2: Training Loss = 1.4246199131011963, Validation Loss = 0.8906363248825073\n",
            "\u001b[1m183/183\u001b[0m \u001b[32m━━━━━━━━━━━━━━━━━━━━\u001b[0m\u001b[37m\u001b[0m \u001b[1m1s\u001b[0m 4ms/step - accuracy: 0.4389 - loss: 1.5999 - val_accuracy: 0.9106 - val_loss: 0.8906\n",
            "Epoch 3/20\n",
            "\u001b[1m167/183\u001b[0m \u001b[32m━━━━━━━━━━━━━━━━━━\u001b[0m\u001b[37m━━\u001b[0m \u001b[1m0s\u001b[0m 2ms/step - accuracy: 0.6035 - loss: 1.0339Epoch 3: Training Loss = 0.9459347724914551, Validation Loss = 0.5754750370979309\n",
            "\u001b[1m183/183\u001b[0m \u001b[32m━━━━━━━━━━━━━━━━━━━━\u001b[0m\u001b[37m\u001b[0m \u001b[1m1s\u001b[0m 3ms/step - accuracy: 0.6063 - loss: 1.0262 - val_accuracy: 0.9381 - val_loss: 0.5755\n",
            "Epoch 4/20\n",
            "\u001b[1m171/183\u001b[0m \u001b[32m━━━━━━━━━━━━━━━━━━\u001b[0m\u001b[37m━━\u001b[0m \u001b[1m0s\u001b[0m 3ms/step - accuracy: 0.7362 - loss: 0.7259Epoch 4: Training Loss = 0.6722191572189331, Validation Loss = 0.3587300479412079\n",
            "\u001b[1m183/183\u001b[0m \u001b[32m━━━━━━━━━━━━━━━━━━━━\u001b[0m\u001b[37m\u001b[0m \u001b[1m1s\u001b[0m 4ms/step - accuracy: 0.7381 - loss: 0.7223 - val_accuracy: 0.9584 - val_loss: 0.3587\n",
            "Epoch 5/20\n",
            "\u001b[1m175/183\u001b[0m \u001b[32m━━━━━━━━━━━━━━━━━━━\u001b[0m\u001b[37m━\u001b[0m \u001b[1m0s\u001b[0m 3ms/step - accuracy: 0.8070 - loss: 0.5389Epoch 5: Training Loss = 0.49644237756729126, Validation Loss = 0.2205127626657486\n",
            "\u001b[1m183/183\u001b[0m \u001b[32m━━━━━━━━━━━━━━━━━━━━\u001b[0m\u001b[37m\u001b[0m \u001b[1m2s\u001b[0m 6ms/step - accuracy: 0.8084 - loss: 0.5369 - val_accuracy: 0.9827 - val_loss: 0.2205\n",
            "Epoch 6/20\n",
            "\u001b[1m182/183\u001b[0m \u001b[32m━━━━━━━━━━━━━━━━━━━\u001b[0m\u001b[37m━\u001b[0m \u001b[1m0s\u001b[0m 3ms/step - accuracy: 0.8827 - loss: 0.3917Epoch 6: Training Loss = 0.3643215000629425, Validation Loss = 0.15851351618766785\n",
            "\u001b[1m183/183\u001b[0m \u001b[32m━━━━━━━━━━━━━━━━━━━━\u001b[0m\u001b[37m\u001b[0m \u001b[1m1s\u001b[0m 6ms/step - accuracy: 0.8828 - loss: 0.3914 - val_accuracy: 0.9774 - val_loss: 0.1585\n",
            "Epoch 7/20\n",
            "\u001b[1m183/183\u001b[0m \u001b[32m━━━━━━━━━━━━━━━━━━━━\u001b[0m\u001b[37m\u001b[0m \u001b[1m0s\u001b[0m 4ms/step - accuracy: 0.9052 - loss: 0.3160Epoch 7: Training Loss = 0.2832075357437134, Validation Loss = 0.10133829712867737\n",
            "\u001b[1m183/183\u001b[0m \u001b[32m━━━━━━━━━━━━━━━━━━━━\u001b[0m\u001b[37m\u001b[0m \u001b[1m1s\u001b[0m 5ms/step - accuracy: 0.9053 - loss: 0.3159 - val_accuracy: 0.9854 - val_loss: 0.1013\n",
            "Epoch 8/20\n",
            "\u001b[1m159/183\u001b[0m \u001b[32m━━━━━━━━━━━━━━━━━\u001b[0m\u001b[37m━━━\u001b[0m \u001b[1m0s\u001b[0m 2ms/step - accuracy: 0.9324 - loss: 0.2542Epoch 8: Training Loss = 0.22801367938518524, Validation Loss = 0.0652867928147316\n",
            "\u001b[1m183/183\u001b[0m \u001b[32m━━━━━━━━━━━━━━━━━━━━\u001b[0m\u001b[37m\u001b[0m \u001b[1m1s\u001b[0m 4ms/step - accuracy: 0.9333 - loss: 0.2509 - val_accuracy: 0.9978 - val_loss: 0.0653\n",
            "Epoch 9/20\n",
            "\u001b[1m175/183\u001b[0m \u001b[32m━━━━━━━━━━━━━━━━━━━\u001b[0m\u001b[37m━\u001b[0m \u001b[1m0s\u001b[0m 2ms/step - accuracy: 0.9436 - loss: 0.2043Epoch 9: Training Loss = 0.1926112025976181, Validation Loss = 0.043330539017915726\n",
            "\u001b[1m183/183\u001b[0m \u001b[32m━━━━━━━━━━━━━━━━━━━━\u001b[0m\u001b[37m\u001b[0m \u001b[1m1s\u001b[0m 3ms/step - accuracy: 0.9437 - loss: 0.2037 - val_accuracy: 0.9982 - val_loss: 0.0433\n",
            "Epoch 10/20\n",
            "\u001b[1m162/183\u001b[0m \u001b[32m━━━━━━━━━━━━━━━━━\u001b[0m\u001b[37m━━━\u001b[0m \u001b[1m0s\u001b[0m 2ms/step - accuracy: 0.9633 - loss: 0.1493Epoch 10: Training Loss = 0.15209342539310455, Validation Loss = 0.027110109105706215\n",
            "\u001b[1m183/183\u001b[0m \u001b[32m━━━━━━━━━━━━━━━━━━━━\u001b[0m\u001b[37m\u001b[0m \u001b[1m1s\u001b[0m 3ms/step - accuracy: 0.9629 - loss: 0.1495 - val_accuracy: 0.9996 - val_loss: 0.0271\n",
            "Epoch 11/20\n",
            "\u001b[1m174/183\u001b[0m \u001b[32m━━━━━━━━━━━━━━━━━━━\u001b[0m\u001b[37m━\u001b[0m \u001b[1m0s\u001b[0m 2ms/step - accuracy: 0.9657 - loss: 0.1315Epoch 11: Training Loss = 0.13009943068027496, Validation Loss = 0.0174342542886734\n",
            "\u001b[1m183/183\u001b[0m \u001b[32m━━━━━━━━━━━━━━━━━━━━\u001b[0m\u001b[37m\u001b[0m \u001b[1m1s\u001b[0m 3ms/step - accuracy: 0.9658 - loss: 0.1315 - val_accuracy: 0.9996 - val_loss: 0.0174\n",
            "Epoch 12/20\n",
            "\u001b[1m167/183\u001b[0m \u001b[32m━━━━━━━━━━━━━━━━━━\u001b[0m\u001b[37m━━\u001b[0m \u001b[1m0s\u001b[0m 2ms/step - accuracy: 0.9680 - loss: 0.1235Epoch 12: Training Loss = 0.12319639325141907, Validation Loss = 0.02381322532892227\n",
            "\u001b[1m183/183\u001b[0m \u001b[32m━━━━━━━━━━━━━━━━━━━━\u001b[0m\u001b[37m\u001b[0m \u001b[1m1s\u001b[0m 3ms/step - accuracy: 0.9679 - loss: 0.1236 - val_accuracy: 0.9996 - val_loss: 0.0238\n",
            "Epoch 13/20\n",
            "\u001b[1m176/183\u001b[0m \u001b[32m━━━━━━━━━━━━━━━━━━━\u001b[0m\u001b[37m━\u001b[0m \u001b[1m0s\u001b[0m 2ms/step - accuracy: 0.9735 - loss: 0.1069Epoch 13: Training Loss = 0.11095373332500458, Validation Loss = 0.019793877378106117\n",
            "\u001b[1m183/183\u001b[0m \u001b[32m━━━━━━━━━━━━━━━━━━━━\u001b[0m\u001b[37m\u001b[0m \u001b[1m1s\u001b[0m 3ms/step - accuracy: 0.9734 - loss: 0.1071 - val_accuracy: 0.9996 - val_loss: 0.0198\n",
            "Epoch 14/20\n",
            "\u001b[1m174/183\u001b[0m \u001b[32m━━━━━━━━━━━━━━━━━━━\u001b[0m\u001b[37m━\u001b[0m \u001b[1m0s\u001b[0m 2ms/step - accuracy: 0.9750 - loss: 0.1006Epoch 14: Training Loss = 0.09610568732023239, Validation Loss = 0.010430791415274143\n",
            "\u001b[1m183/183\u001b[0m \u001b[32m━━━━━━━━━━━━━━━━━━━━\u001b[0m\u001b[37m\u001b[0m \u001b[1m1s\u001b[0m 3ms/step - accuracy: 0.9751 - loss: 0.1004 - val_accuracy: 0.9996 - val_loss: 0.0104\n",
            "Epoch 15/20\n",
            "\u001b[1m182/183\u001b[0m \u001b[32m━━━━━━━━━━━━━━━━━━━\u001b[0m\u001b[37m━\u001b[0m \u001b[1m0s\u001b[0m 2ms/step - accuracy: 0.9738 - loss: 0.0985Epoch 15: Training Loss = 0.0982942208647728, Validation Loss = 0.009333066642284393\n",
            "\u001b[1m183/183\u001b[0m \u001b[32m━━━━━━━━━━━━━━━━━━━━\u001b[0m\u001b[37m\u001b[0m \u001b[1m1s\u001b[0m 4ms/step - accuracy: 0.9738 - loss: 0.0985 - val_accuracy: 0.9996 - val_loss: 0.0093\n",
            "Epoch 16/20\n",
            "\u001b[1m165/183\u001b[0m \u001b[32m━━━━━━━━━━━━━━━━━━\u001b[0m\u001b[37m━━\u001b[0m \u001b[1m0s\u001b[0m 2ms/step - accuracy: 0.9777 - loss: 0.0781Epoch 16: Training Loss = 0.07570094615221024, Validation Loss = 0.008777267299592495\n",
            "\u001b[1m183/183\u001b[0m \u001b[32m━━━━━━━━━━━━━━━━━━━━\u001b[0m\u001b[37m\u001b[0m \u001b[1m1s\u001b[0m 3ms/step - accuracy: 0.9779 - loss: 0.0779 - val_accuracy: 0.9996 - val_loss: 0.0088\n",
            "Epoch 17/20\n",
            "\u001b[1m171/183\u001b[0m \u001b[32m━━━━━━━━━━━━━━━━━━\u001b[0m\u001b[37m━━\u001b[0m \u001b[1m0s\u001b[0m 2ms/step - accuracy: 0.9789 - loss: 0.0756Epoch 17: Training Loss = 0.07881911098957062, Validation Loss = 0.006974499672651291\n",
            "\u001b[1m183/183\u001b[0m \u001b[32m━━━━━━━━━━━━━━━━━━━━\u001b[0m\u001b[37m\u001b[0m \u001b[1m1s\u001b[0m 3ms/step - accuracy: 0.9788 - loss: 0.0758 - val_accuracy: 0.9996 - val_loss: 0.0070\n",
            "Epoch 18/20\n",
            "\u001b[1m162/183\u001b[0m \u001b[32m━━━━━━━━━━━━━━━━━\u001b[0m\u001b[37m━━━\u001b[0m \u001b[1m0s\u001b[0m 3ms/step - accuracy: 0.9791 - loss: 0.0800Epoch 18: Training Loss = 0.07403888553380966, Validation Loss = 0.009430110454559326\n",
            "\u001b[1m183/183\u001b[0m \u001b[32m━━━━━━━━━━━━━━━━━━━━\u001b[0m\u001b[37m\u001b[0m \u001b[1m1s\u001b[0m 3ms/step - accuracy: 0.9794 - loss: 0.0792 - val_accuracy: 0.9996 - val_loss: 0.0094\n",
            "Epoch 19/20\n",
            "\u001b[1m175/183\u001b[0m \u001b[32m━━━━━━━━━━━━━━━━━━━\u001b[0m\u001b[37m━\u001b[0m \u001b[1m0s\u001b[0m 2ms/step - accuracy: 0.9826 - loss: 0.0744Epoch 19: Training Loss = 0.07671356201171875, Validation Loss = 0.005466701928526163\n",
            "\u001b[1m183/183\u001b[0m \u001b[32m━━━━━━━━━━━━━━━━━━━━\u001b[0m\u001b[37m\u001b[0m \u001b[1m1s\u001b[0m 3ms/step - accuracy: 0.9826 - loss: 0.0745 - val_accuracy: 0.9996 - val_loss: 0.0055\n",
            "Epoch 20/20\n",
            "\u001b[1m172/183\u001b[0m \u001b[32m━━━━━━━━━━━━━━━━━━\u001b[0m\u001b[37m━━\u001b[0m \u001b[1m0s\u001b[0m 3ms/step - accuracy: 0.9820 - loss: 0.0670Epoch 20: Training Loss = 0.06623369455337524, Validation Loss = 0.005516436882317066\n",
            "\u001b[1m183/183\u001b[0m \u001b[32m━━━━━━━━━━━━━━━━━━━━\u001b[0m\u001b[37m\u001b[0m \u001b[1m1s\u001b[0m 4ms/step - accuracy: 0.9820 - loss: 0.0669 - val_accuracy: 0.9996 - val_loss: 0.0055\n"
          ]
        },
        {
          "data": {
            "text/plain": [
              "<keras.src.callbacks.history.History at 0x7c2c7df3df30>"
            ]
          },
          "execution_count": 10,
          "metadata": {},
          "output_type": "execute_result"
        }
      ],
      "source": [
        "number_model.fit(\n",
        "    number_train_data,\n",
        "    number_train_labels_categorical,\n",
        "    epochs=20,\n",
        "    batch_size=32,\n",
        "    validation_data=(number_test_data, number_test_labels_categorical),\n",
        "    callbacks=[print_loss_callback, checkpoint_callback_number]\n",
        "    )"
      ]
    },
    {
      "cell_type": "code",
      "execution_count": null,
      "metadata": {
        "id": "jQTBEWFeNuxr"
      },
      "outputs": [],
      "source": [
        "# Save the model\n",
        "number_model.save('/content/drive/My Drive/Colab Notebooks/ISLtoText/number_model.keras')"
      ]
    },
    {
      "cell_type": "code",
      "execution_count": null,
      "metadata": {
        "id": "L75CN9emNxBi"
      },
      "outputs": [],
      "source": [
        "from sklearn.metrics import confusion_matrix, accuracy_score, precision_score, recall_score, f1_score\n",
        "import numpy as np\n",
        "\n",
        "# Get predictions\n",
        "y_pred = model.predict(validation_data)\n",
        "\n",
        "# If the output is probabilistic (softmax), convert it to class labels\n",
        "y_pred_classes = np.argmax(y_pred, axis=1)\n",
        "\n",
        "# Get the true labels from the validation data\n",
        "y_true = np.argmax(number_test_labels_categorical, axis=1)\n",
        "\n",
        "conf_matrix = confusion_matrix(y_true, y_pred_classes)\n",
        "print(\"Confusion Matrix:\")\n",
        "print(conf_matrix)\n"
      ]
    }
  ],
  "metadata": {
    "colab": {
      "provenance": []
    },
    "kernelspec": {
      "display_name": "Python 3",
      "name": "python3"
    },
    "language_info": {
      "codemirror_mode": {
        "name": "ipython",
        "version": 3
      },
      "file_extension": ".py",
      "mimetype": "text/x-python",
      "name": "python",
      "nbconvert_exporter": "python",
      "pygments_lexer": "ipython3",
      "version": "3.12.4"
    }
  },
  "nbformat": 4,
  "nbformat_minor": 0
}
